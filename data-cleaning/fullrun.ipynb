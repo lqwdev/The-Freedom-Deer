{
 "cells": [
  {
   "cell_type": "code",
   "execution_count": 1,
   "id": "5e873369",
   "metadata": {},
   "outputs": [],
   "source": [
    "import sqlite3\n",
    "import cleaning\n",
    "import database\n",
    "import integration\n",
    "import numpy as np\n",
    "import pandas as pd"
   ]
  },
  {
   "cell_type": "code",
   "execution_count": 2,
   "id": "093dc2ba",
   "metadata": {},
   "outputs": [
    {
     "name": "stdout",
     "output_type": "stream",
     "text": [
      "[BEGIN]\n"
     ]
    },
    {
     "name": "stderr",
     "output_type": "stream",
     "text": [
      "/Users/qingweilan/Desktop/dev/ai339/ai339-project/data-cleaning/integration.py:168: SettingWithCopyWarning: \n",
      "A value is trying to be set on a copy of a slice from a DataFrame.\n",
      "Try using .loc[row_indexer,col_indexer] = value instead\n",
      "\n",
      "See the caveats in the documentation: https://pandas.pydata.org/pandas-docs/stable/user_guide/indexing.html#returning-a-view-versus-a-copy\n",
      "  remaining['officer_id'] = 'NULL'\n",
      "/Users/qingweilan/Desktop/dev/ai339/ai339-project/data-cleaning/integration.py:234: SettingWithCopyWarning: \n",
      "A value is trying to be set on a copy of a slice from a DataFrame.\n",
      "Try using .loc[row_indexer,col_indexer] = value instead\n",
      "\n",
      "See the caveats in the documentation: https://pandas.pydata.org/pandas-docs/stable/user_guide/indexing.html#returning-a-view-versus-a-copy\n",
      "  results['officer_unit_detail_id'] = pd.to_numeric(results['officer_unit_detail_id'])\n"
     ]
    },
    {
     "name": "stdout",
     "output_type": "stream",
     "text": [
      "Finished processing trr_trr_refresh\n",
      "Finished processing trr_trrstatus_refresh\n",
      "Finished processing trr_weapondischarge_refresh\n",
      "Finished processing trr_actionresponse_refresh\n",
      "Finished processing trr_charge_refresh\n",
      "Finished processing trr_subjectweapon_refresh\n",
      "END\n"
     ]
    }
   ],
   "source": [
    "print('[BEGIN]')\n",
    "\n",
    "trr = integration.integrate_trr()\n",
    "print('Finished processing trr_trr_refresh')\n",
    "\n",
    "trrstatus = integration.integrate_trr_status()\n",
    "print('Finished processing trr_trrstatus_refresh')\n",
    "\n",
    "# get all valid trr ids from trr\n",
    "trr_ids = set(trr['id'])\n",
    "\n",
    "# remove rows without valid trr ids\n",
    "trrstatus = trrstatus[trrstatus['trr_id'].isin(trr_ids)]\n",
    "\n",
    "# remove rows without valid trr ids\n",
    "weapondischarge = cleaning.process_weapondischarge()\n",
    "weapondischarge = weapondischarge[weapondischarge['trr_id'].isin(trr_ids)]\n",
    "print('Finished processing trr_weapondischarge_refresh')\n",
    "\n",
    "# remove rows without valid trr ids\n",
    "actionresponse = cleaning.process_actionresponse()\n",
    "actionresponse = actionresponse[actionresponse['trr_id'].isin(trr_ids)]\n",
    "print('Finished processing trr_actionresponse_refresh')\n",
    "\n",
    "# remove rows without valid trr ids\n",
    "charge = cleaning.process_charge()\n",
    "charge = charge[charge['trr_id'].isin(trr_ids)]\n",
    "print('Finished processing trr_charge_refresh')\n",
    "\n",
    "# remove rows without valid trr ids\n",
    "subjectweapon = cleaning.process_subjectweapon()\n",
    "subjectweapon = subjectweapon[subjectweapon['trr_id'].isin(trr_ids)]\n",
    "print('Finished processing trr_subjectweapon_refresh')\n",
    "\n",
    "# replace NULLs with empty string\n",
    "trr.replace('NULL', '', inplace=True)\n",
    "trr.fillna('', inplace=True)\n",
    "trrstatus.replace('NULL', '', inplace=True)\n",
    "trrstatus.fillna('', inplace=True)\n",
    "weapondischarge.replace('NULL', '', inplace=True)\n",
    "weapondischarge.fillna('', inplace=True)\n",
    "actionresponse.replace('NULL', '', inplace=True)\n",
    "actionresponse.fillna('', inplace=True)\n",
    "charge.replace('NULL', '', inplace=True)\n",
    "charge.fillna('', inplace=True)\n",
    "subjectweapon.replace('NULL', '', inplace=True)\n",
    "subjectweapon.fillna('', inplace=True)\n",
    "\n",
    "print('END')"
   ]
  },
  {
   "cell_type": "code",
   "execution_count": 6,
   "id": "ffc0d478",
   "metadata": {},
   "outputs": [],
   "source": [
    "trr.to_csv('output/trr-trr.csv', index=False)\n",
    "trrstatus.to_csv('output/trr-trrstatus.csv', index=False)\n",
    "weapondischarge.to_csv('output/trr-weapondischarge.csv', index=False)\n",
    "actionresponse.to_csv('output/trr-actionresponse.csv', index=False)\n",
    "charge.to_csv('output/trr-charge.csv', index=False)\n",
    "subjectweapon.to_csv('output/trr-subjectweapon.csv', index=False)"
   ]
  }
 ],
 "metadata": {
  "kernelspec": {
   "display_name": "Python 3 (ipykernel)",
   "language": "python",
   "name": "python3"
  },
  "language_info": {
   "codemirror_mode": {
    "name": "ipython",
    "version": 3
   },
   "file_extension": ".py",
   "mimetype": "text/x-python",
   "name": "python",
   "nbconvert_exporter": "python",
   "pygments_lexer": "ipython3",
   "version": "3.10.0"
  }
 },
 "nbformat": 4,
 "nbformat_minor": 5
}
