{
 "cells": [
  {
   "cell_type": "code",
   "execution_count": 3,
   "id": "1c2d0283",
   "metadata": {},
   "outputs": [],
   "source": [
    "# install spark (change the version number if needed)\n",
    "!wget -q https://archive.apache.org/dist/spark/spark-3.2.0/spark-3.2.0-bin-hadoop3.2.tgz\n",
    "# unzip the spark file to the current folder\n",
    "!tar xf spark-3.2.0-bin-hadoop3.2.tgz"
   ]
  },
  {
   "cell_type": "code",
   "execution_count": 1,
   "id": "d9d08d46",
   "metadata": {},
   "outputs": [],
   "source": [
    "import networkx as nx\n",
    "import pandas as pd\n",
    "import psycopg2"
   ]
  },
  {
   "cell_type": "code",
   "execution_count": 2,
   "id": "66baa1f1",
   "metadata": {},
   "outputs": [
    {
     "name": "stderr",
     "output_type": "stream",
     "text": [
      "WARNING: An illegal reflective access operation has occurred\n",
      "WARNING: Illegal reflective access by org.apache.spark.unsafe.Platform (file:/Users/qingweilan/Desktop/dev/ai339/ai339-project/cp4/src/spark-3.2.0-bin-hadoop3.2/jars/spark-unsafe_2.12-3.2.0.jar) to constructor java.nio.DirectByteBuffer(long,int)\n",
      "WARNING: Please consider reporting this to the maintainers of org.apache.spark.unsafe.Platform\n",
      "WARNING: Use --illegal-access=warn to enable warnings of further illegal reflective access operations\n",
      "WARNING: All illegal access operations will be denied in a future release\n",
      "Using Spark's default log4j profile: org/apache/spark/log4j-defaults.properties\n",
      "Setting default log level to \"WARN\".\n",
      "To adjust logging level use sc.setLogLevel(newLevel). For SparkR, use setLogLevel(newLevel).\n",
      "21/11/15 15:40:05 WARN NativeCodeLoader: Unable to load native-hadoop library for your platform... using builtin-java classes where applicable\n"
     ]
    }
   ],
   "source": [
    "from pyspark import *\n",
    "from pyspark.sql import *\n",
    "from graphframes import *\n",
    "import findspark\n",
    "import os\n",
    "\n",
    "os.environ[\"JAVA_HOME\"] = \"/usr/local/opt/openjdk@11/\"\n",
    "\n",
    "findspark.init(\"./spark-3.2.0-bin-hadoop3.2\")\n",
    "\n",
    "# Start a Spark session\n",
    "spark = SparkSession.builder.master(\"local[*]\").getOrCreate()"
   ]
  },
  {
   "cell_type": "code",
   "execution_count": 6,
   "id": "c1330556",
   "metadata": {},
   "outputs": [],
   "source": [
    "vertices = spark.createDataFrame([\n",
    "    (\"a\", \"Alice\", 34),\n",
    "    (\"b\", \"Bob\", 36),\n",
    "    (\"c\", \"Charlie\", 30),\n",
    "    (\"d\", \"David\", 29),\n",
    "    (\"e\", \"Esther\", 32),\n",
    "    (\"f\", \"Fanny\", 36),\n",
    "    (\"g\", \"Gabby\", 60),\n",
    "], [\"id\", \"name\", \"age\"])\n",
    "edges = spark.createDataFrame([\n",
    "    (\"a\", \"b\", \"friend\"),\n",
    "    (\"b\", \"c\", \"follow\"),\n",
    "    (\"c\", \"b\", \"follow\"),\n",
    "    (\"f\", \"c\", \"follow\"),\n",
    "    (\"e\", \"f\", \"follow\"),\n",
    "    (\"e\", \"d\", \"friend\"),\n",
    "    (\"d\", \"a\", \"friend\"),\n",
    "    (\"a\", \"e\", \"friend\")\n",
    "], [\"src\", \"dst\", \"relationship\"])"
   ]
  },
  {
   "cell_type": "code",
   "execution_count": 7,
   "id": "c65c1e47",
   "metadata": {},
   "outputs": [],
   "source": [
    "g = GraphFrame(vertices, edges)"
   ]
  },
  {
   "cell_type": "code",
   "execution_count": 9,
   "id": "bfce27dc",
   "metadata": {},
   "outputs": [
    {
     "name": "stdout",
     "output_type": "stream",
     "text": [
      "+---+-------+---+\n",
      "| id|   name|age|\n",
      "+---+-------+---+\n",
      "|  a|  Alice| 34|\n",
      "|  b|    Bob| 36|\n",
      "|  c|Charlie| 30|\n",
      "|  d|  David| 29|\n",
      "|  e| Esther| 32|\n",
      "|  f|  Fanny| 36|\n",
      "|  g|  Gabby| 60|\n",
      "+---+-------+---+\n",
      "\n"
     ]
    }
   ],
   "source": [
    "g.vertices.show()"
   ]
  },
  {
   "cell_type": "code",
   "execution_count": 10,
   "id": "5b58b0ce",
   "metadata": {},
   "outputs": [
    {
     "name": "stdout",
     "output_type": "stream",
     "text": [
      "+---+---+------------+\n",
      "|src|dst|relationship|\n",
      "+---+---+------------+\n",
      "|  a|  b|      friend|\n",
      "|  b|  c|      follow|\n",
      "|  c|  b|      follow|\n",
      "|  f|  c|      follow|\n",
      "|  e|  f|      follow|\n",
      "|  e|  d|      friend|\n",
      "|  d|  a|      friend|\n",
      "|  a|  e|      friend|\n",
      "+---+---+------------+\n",
      "\n"
     ]
    }
   ],
   "source": [
    "g.edges.show()"
   ]
  },
  {
   "cell_type": "code",
   "execution_count": 13,
   "id": "e2541a4f",
   "metadata": {},
   "outputs": [],
   "source": [
    "def plot_graph(gx):\n",
    "    g = nx.DiGraph(directed = True)\n",
    "    \n",
    "    g = nx.from_pandas_edgelist(gx.edges.toPandas(),'src','dst')\n",
    "    g.add_nodes_from(gx.vertices.toPandas()['id'])\n",
    "\n",
    "    nx.draw(g, with_labels=True, arrows = True, node_color='grey')"
   ]
  },
  {
   "cell_type": "code",
   "execution_count": 15,
   "id": "72fd7fa9",
   "metadata": {},
   "outputs": [
    {
     "data": {
      "image/png": "[encoded data removed]",
      "text/plain": [
       "<Figure size 432x288 with 1 Axes>"
      ]
     },
     "metadata": {},
     "output_type": "display_data"
    }
   ],
   "source": [
    "plot_graph(g)"
   ]
  },
  {
   "cell_type": "code",
   "execution_count": 19,
   "id": "c0717ff7",
   "metadata": {},
   "outputs": [
    {
     "name": "stdout",
     "output_type": "stream",
     "text": [
      "+---+--------+\n",
      "| id|inDegree|\n",
      "+---+--------+\n",
      "|  c|       2|\n",
      "|  b|       2|\n",
      "|  f|       1|\n",
      "|  d|       1|\n",
      "|  e|       1|\n",
      "|  a|       1|\n",
      "+---+--------+\n",
      "\n"
     ]
    }
   ],
   "source": [
    "g.inDegrees.sort(['inDegree'], ascending=[0]).show()"
   ]
  },
  {
   "cell_type": "code",
   "execution_count": 18,
   "id": "c9c1f23c",
   "metadata": {},
   "outputs": [
    {
     "name": "stdout",
     "output_type": "stream",
     "text": [
      "+---+---------+\n",
      "| id|outDegree|\n",
      "+---+---------+\n",
      "|  e|        2|\n",
      "|  a|        2|\n",
      "|  b|        1|\n",
      "|  c|        1|\n",
      "|  d|        1|\n",
      "|  f|        1|\n",
      "+---+---------+\n",
      "\n"
     ]
    }
   ],
   "source": [
    "g.outDegrees.sort(['outDegree'], ascending=[0]).show()"
   ]
  },
  {
   "cell_type": "code",
   "execution_count": 20,
   "id": "fab73f11",
   "metadata": {},
   "outputs": [
    {
     "name": "stdout",
     "output_type": "stream",
     "text": [
      "+---+------+\n",
      "| id|degree|\n",
      "+---+------+\n",
      "|  b|     3|\n",
      "|  e|     3|\n",
      "|  a|     3|\n",
      "|  c|     3|\n",
      "|  f|     2|\n",
      "|  d|     2|\n",
      "+---+------+\n",
      "\n"
     ]
    }
   ],
   "source": [
    "g.degrees.sort(['Degree'], ascending=[0]).show()"
   ]
  },
  {
   "cell_type": "code",
   "execution_count": 25,
   "id": "cb6ef484",
   "metadata": {},
   "outputs": [],
   "source": [
    "conn = psycopg2.connect(\n",
    "    host=\"codd04.research.northwestern.edu\",\n",
    "    port = \"5433\",\n",
    "    database=\"postgres\",\n",
    "    user=\"cpdbstudent\",\n",
    "    password=\"DataSci4AI\",\n",
    ")\n",
    "cursor = conn.cursor()"
   ]
  },
  {
   "cell_type": "code",
   "execution_count": 26,
   "id": "edb9a95d",
   "metadata": {},
   "outputs": [],
   "source": [
    "edges_query = \"\"\"\n",
    "    SELECT da1.officer_id src, da2.officer_id dst, COUNT(DISTINCT da1.allegation_id) relationship\n",
    "    FROM data_officerallegation da1\n",
    "    JOIN data_officerallegation da2 \n",
    "        ON da1.allegation_id = da2.allegation_id AND da1.officer_id < da2.officer_id \n",
    "    GROUP BY da1.officer_id, da2.officer_id\n",
    "    ORDER BY count(*) DESC;\n",
    "\"\"\""
   ]
  },
  {
   "cell_type": "code",
   "execution_count": 28,
   "id": "cbfb8c3c",
   "metadata": {},
   "outputs": [],
   "source": [
    "nodes_query = \"\"\"\n",
    "    SELECT  id, first_name || ' ' || last_name officer_name, allegation_count\n",
    "    FROM data_officer;\n",
    "\"\"\""
   ]
  },
  {
   "cell_type": "code",
   "execution_count": 30,
   "id": "e5e52ec7",
   "metadata": {},
   "outputs": [
    {
     "name": "stdout",
     "output_type": "stream",
     "text": [
      "shape is: 229195\n",
      "(229195, 3)\n"
     ]
    }
   ],
   "source": [
    "cursor.execute(edges_query)\n",
    "edges = cursor.fetchall()\n",
    "print(\"shape is: \" + str(len(edges))) # 17465\n",
    "\n",
    "df_edges = pd.DataFrame(edges)\n",
    "colnames = [desc[0] for desc in cursor.description]\n",
    "df_edges.columns = colnames\n",
    "\n",
    "print(df_edges.shape)"
   ]
  },
  {
   "cell_type": "code",
   "execution_count": 31,
   "id": "0413eaad",
   "metadata": {},
   "outputs": [
    {
     "name": "stdout",
     "output_type": "stream",
     "text": [
      "shape is: 35545\n",
      "(35545, 3)\n"
     ]
    }
   ],
   "source": [
    "cursor.execute(nodes_query)\n",
    "nodes = cursor.fetchall()\n",
    "print(\"shape is: \" + str(len(nodes))) # 17465\n",
    "\n",
    "df_nodes = pd.DataFrame(nodes)\n",
    "colnames = [desc[0] for desc in cursor.description]\n",
    "df_nodes.columns = colnames\n",
    "\n",
    "print(df_nodes.shape)"
   ]
  },
  {
   "cell_type": "code",
   "execution_count": 34,
   "id": "3e1038ba",
   "metadata": {},
   "outputs": [],
   "source": [
    "edges_ = spark.createDataFrame(df_edges)\n",
    "nodes = spark.createDataFrame(df_nodes)"
   ]
  },
  {
   "cell_type": "code",
   "execution_count": 35,
   "id": "f951bbc4",
   "metadata": {},
   "outputs": [],
   "source": [
    "cpdb = GraphFrame(nodes, edges_)"
   ]
  },
  {
   "cell_type": "code",
   "execution_count": 37,
   "id": "c681a35e",
   "metadata": {},
   "outputs": [
    {
     "name": "stdout",
     "output_type": "stream",
     "text": [
      "+-----+---------------+----------------+\n",
      "|   id|   officer_name|allegation_count|\n",
      "+-----+---------------+----------------+\n",
      "|32312|   Randall Ryan|            10.0|\n",
      "|32358|    Kevin Stoll|            24.0|\n",
      "|32480|    David Lavin|             0.0|\n",
      "|32491|     Kevin Rake|             0.0|\n",
      "| 2680| Richard Brandt|             0.0|\n",
      "|29553| Hugh Versteegh|             0.0|\n",
      "|19974|  Andrew Murcia|             0.0|\n",
      "| 8259|    Hugh Farmer|             0.0|\n",
      "|17716|Anthony Matassa|             0.0|\n",
      "|19659|  John Moriarty|             0.0|\n",
      "|32506|Richard Francis|             0.0|\n",
      "|29111|   Robert Tyson|             0.0|\n",
      "| 1791|  Chas Bennette|             0.0|\n",
      "|17146|  Robert Malone|             0.0|\n",
      "|17242|  Jerry Manning|             0.0|\n",
      "|17289|Michael Maratto|             0.0|\n",
      "|32467|  Jonathan Boyd|             0.0|\n",
      "|33755|Phyllis Butcher|             1.0|\n",
      "|  333|Leroy Alexander|             0.0|\n",
      "|18597|  James Mcglynn|             0.0|\n",
      "+-----+---------------+----------------+\n",
      "only showing top 20 rows\n",
      "\n"
     ]
    }
   ],
   "source": [
    "cpdb.vertices.show()"
   ]
  },
  {
   "cell_type": "code",
   "execution_count": 38,
   "id": "484c243c",
   "metadata": {},
   "outputs": [
    {
     "name": "stdout",
     "output_type": "stream",
     "text": [
      "+-----+-----+------------+\n",
      "|  src|  dst|relationship|\n",
      "+-----+-----+------------+\n",
      "|12478|32166|          53|\n",
      "| 8562|27778|          47|\n",
      "| 1553|10724|          43|\n",
      "| 2725|21703|          41|\n",
      "| 3605|14442|          41|\n",
      "|12479|20713|          40|\n",
      "| 8658|13788|          38|\n",
      "|14045|15502|          37|\n",
      "| 2369| 7015|          36|\n",
      "| 1553|16699|          35|\n",
      "|12074|12825|          35|\n",
      "| 8852|31119|          35|\n",
      "|15360|23239|          34|\n",
      "|13361|20150|          34|\n",
      "| 8562|23841|          32|\n",
      "| 8562|18206|          32|\n",
      "|32265|32347|          32|\n",
      "|31882|32401|          32|\n",
      "|31119|32336|          32|\n",
      "|27415|32172|          31|\n",
      "+-----+-----+------------+\n",
      "only showing top 20 rows\n",
      "\n"
     ]
    }
   ],
   "source": [
    "cpdb.edges.show()"
   ]
  },
  {
   "cell_type": "code",
   "execution_count": 40,
   "id": "a9b7d56c",
   "metadata": {},
   "outputs": [
    {
     "name": "stdout",
     "output_type": "stream",
     "text": [
      "+---+-----------------+----------------+\n",
      "| id|     officer_name|allegation_count|\n",
      "+---+-----------------+----------------+\n",
      "|  1|    Jeffery Aaron|             6.0|\n",
      "|  2|     Karina Aaron|             8.0|\n",
      "|  3|     Daniel Abate|             0.0|\n",
      "|  4|    Carmel Abbate|             7.0|\n",
      "|  5|    Carmen Abbate|             4.0|\n",
      "|  6|   Anthony Abbate|             6.0|\n",
      "|  7|     Terry Abbate|             8.0|\n",
      "|  8|       Leon Abbey|             2.0|\n",
      "|  9|    Michael Abbey|             3.0|\n",
      "| 10|       Leon Abbey|             0.0|\n",
      "| 11|     Laura Abbott|             7.0|\n",
      "| 12|    Andrew Abbott|             7.0|\n",
      "| 13|      Dale Abbott|            10.0|\n",
      "| 14| Elizabeth Abbott|             4.0|\n",
      "| 15|    Zaid Abdallah|             1.0|\n",
      "| 16| Aziz Abdelmajeid|            19.0|\n",
      "| 17|  Moulay Abdullah|            25.0|\n",
      "| 18|    Jason Abejero|             5.0|\n",
      "| 19|Restituto Abejero|             5.0|\n",
      "| 20|    Kenneth Abels|             3.0|\n",
      "+---+-----------------+----------------+\n",
      "only showing top 20 rows\n",
      "\n"
     ]
    }
   ],
   "source": [
    "cpdb.vertices.sort(['id'], ascending=True).show()"
   ]
  },
  {
   "cell_type": "code",
   "execution_count": 41,
   "id": "6a76737a",
   "metadata": {},
   "outputs": [
    {
     "name": "stderr",
     "output_type": "stream",
     "text": [
      "[Stage 47:>                                                         (0 + 1) / 1]\r"
     ]
    },
    {
     "name": "stdout",
     "output_type": "stream",
     "text": [
      "+-----+-----+\n",
      "|   id|count|\n",
      "+-----+-----+\n",
      "|19659|    0|\n",
      "| 8259|    0|\n",
      "|33755|    0|\n",
      "|17716|    0|\n",
      "|33725|    0|\n",
      "|32506|    0|\n",
      "|17146|    0|\n",
      "|  333|    0|\n",
      "|17289|    0|\n",
      "| 2680|    0|\n",
      "|19974|    0|\n",
      "|17242|    0|\n",
      "|32491|    0|\n",
      "|32312|   37|\n",
      "|32358|  109|\n",
      "|32480|    0|\n",
      "| 1791|    0|\n",
      "|18597|    0|\n",
      "|29553|    0|\n",
      "|29111|    0|\n",
      "+-----+-----+\n",
      "only showing top 20 rows\n",
      "\n"
     ]
    },
    {
     "name": "stderr",
     "output_type": "stream",
     "text": [
      "\r",
      "                                                                                \r"
     ]
    }
   ],
   "source": [
    "tc_cpdb = cpdb.triangleCount()\n",
    "tc_cpdb.select(\"id\", \"count\").show()"
   ]
  },
  {
   "cell_type": "code",
   "execution_count": 42,
   "id": "e0e2aa94",
   "metadata": {},
   "outputs": [
    {
     "name": "stderr",
     "output_type": "stream",
     "text": [
      "                                                                                \r"
     ]
    },
    {
     "name": "stdout",
     "output_type": "stream",
     "text": [
      "+-----+------------------+----------------+------------------+\n",
      "|   id|      officer_name|allegation_count|          pagerank|\n",
      "+-----+------------------+----------------+------------------+\n",
      "|32442|      John Zinchuk|            23.0|165.10729586039054|\n",
      "|32440|       Mark Zawila|            34.0|116.94160976160474|\n",
      "|32425|    Perry Williams|            27.0| 98.30895865467448|\n",
      "|32350|    Robert Spiegel|            20.0| 93.89434875346458|\n",
      "|32410|     Joseph Watson|            29.0| 93.08113520834976|\n",
      "|32430|    Michael Wrobel|            22.0| 91.40650266021781|\n",
      "|32074|    Ronald Jenkins|            46.0| 90.96964645851831|\n",
      "|32284|         Mark Reno|            76.0| 88.61011443214588|\n",
      "|32351|  Boonserm Srisuth|            25.0|  85.7484496585607|\n",
      "|32433|     Kenneth Yakes|            29.0| 82.53441261166478|\n",
      "|32419|         Eric Wier|            18.0| 78.00667585858889|\n",
      "|32384|     Edwin Utreras|            47.0| 77.30836139097354|\n",
      "|32435|    Mohammad Yusuf|            22.0|  76.7888150989292|\n",
      "|32413| Carl Weatherspoon|            69.0| 75.15204421593329|\n",
      "|32337|       Louis Silva|            21.0| 75.00181054881047|\n",
      "|32431|     Albert Wyroba|            15.0| 74.79734661302653|\n",
      "|32289|       John Rivera|            44.0| 73.23421927204026|\n",
      "|32401|    Joshua Wallace|            45.0|  72.4657128499694|\n",
      "|32375|James Triantafillo|            31.0| 65.51924756707182|\n",
      "|32436|   Edmund Zablocki|            28.0| 62.94909260086601|\n",
      "+-----+------------------+----------------+------------------+\n",
      "only showing top 20 rows\n",
      "\n"
     ]
    },
    {
     "name": "stderr",
     "output_type": "stream",
     "text": [
      "\r",
      "[Stage 629:=====================>                                   (3 + 5) / 8]\r",
      "\r",
      "                                                                                \r"
     ]
    }
   ],
   "source": [
    "pr_cpdb = cpdb.pageRank(resetProbability=0.15, tol=0.01)\n",
    "#look at the pagerank score for every vertex\n",
    "pr_cpdb.vertices.orderBy('pagerank', ascending=False).show()"
   ]
  },
  {
   "cell_type": "code",
   "execution_count": 44,
   "id": "42073ae1",
   "metadata": {},
   "outputs": [
    {
     "name": "stderr",
     "output_type": "stream",
     "text": [
      "                                                                                \r"
     ]
    },
    {
     "name": "stdout",
     "output_type": "stream",
     "text": [
      "+---+-----------------+\n",
      "| id|summedAllegations|\n",
      "+---+-----------------+\n",
      "|  1|            101.0|\n",
      "|  2|            301.0|\n",
      "|  4|             24.0|\n",
      "|  5|            293.0|\n",
      "|  6|            273.0|\n",
      "|  7|            347.0|\n",
      "|  8|            156.0|\n",
      "|  9|             13.0|\n",
      "| 11|            138.0|\n",
      "| 12|            383.0|\n",
      "| 13|            149.0|\n",
      "| 14|             54.0|\n",
      "| 15|             90.0|\n",
      "| 16|            987.0|\n",
      "| 17|            208.0|\n",
      "| 18|             33.0|\n",
      "| 19|             27.0|\n",
      "| 20|             37.0|\n",
      "| 21|            114.0|\n",
      "| 25|              7.0|\n",
      "+---+-----------------+\n",
      "only showing top 20 rows\n",
      "\n"
     ]
    }
   ],
   "source": [
    "from pyspark.sql.functions import sum as sqlsum\n",
    "from graphframes.lib import AggregateMessages as AM\n",
    "# from graphframes.examples import Graphs\n",
    "# g = Graphs(sqlContext).friends()  # Get example graph\n",
    "\n",
    "# For each user, sum the ages of the adjacent users.\n",
    "msgToSrc = AM.dst[\"allegation_count\"]\n",
    "msgToDst = AM.src[\"allegation_count\"]\n",
    "agg = cpdb.aggregateMessages(\n",
    "    sqlsum(AM.msg).alias(\"summedAllegations\"),\n",
    "    sendToSrc=msgToSrc,\n",
    "    sendToDst=msgToDst)\n",
    "\n",
    "agg.sort(['id'], ascending=True).show()"
   ]
  }
 ],
 "metadata": {
  "kernelspec": {
   "display_name": "Python 3 (ipykernel)",
   "language": "python",
   "name": "python3"
  },
  "language_info": {
   "codemirror_mode": {
    "name": "ipython",
    "version": 3
   },
   "file_extension": ".py",
   "mimetype": "text/x-python",
   "name": "python",
   "nbconvert_exporter": "python",
   "pygments_lexer": "ipython3",
   "version": "3.8.12"
  }
 },
 "nbformat": 4,
 "nbformat_minor": 5
}
