{
 "cells": [
  {
   "cell_type": "code",
   "execution_count": 1,
   "id": "9b72843e",
   "metadata": {},
   "outputs": [],
   "source": [
    "import db\n",
    "import networkx as nx\n",
    "import pandas as pd\n",
    "import psycopg2"
   ]
  },
  {
   "cell_type": "code",
   "execution_count": 2,
   "id": "81dcb510",
   "metadata": {},
   "outputs": [
    {
     "name": "stderr",
     "output_type": "stream",
     "text": [
      "WARNING: An illegal reflective access operation has occurred\n",
      "WARNING: Illegal reflective access by org.apache.spark.unsafe.Platform (file:/Users/qingweilan/Desktop/dev/ai339/ai339-project/cp4/src/spark-3.2.0-bin-hadoop3.2/jars/spark-unsafe_2.12-3.2.0.jar) to constructor java.nio.DirectByteBuffer(long,int)\n",
      "WARNING: Please consider reporting this to the maintainers of org.apache.spark.unsafe.Platform\n",
      "WARNING: Use --illegal-access=warn to enable warnings of further illegal reflective access operations\n",
      "WARNING: All illegal access operations will be denied in a future release\n",
      "Using Spark's default log4j profile: org/apache/spark/log4j-defaults.properties\n",
      "Setting default log level to \"WARN\".\n",
      "To adjust logging level use sc.setLogLevel(newLevel). For SparkR, use setLogLevel(newLevel).\n",
      "21/11/15 15:40:47 WARN NativeCodeLoader: Unable to load native-hadoop library for your platform... using builtin-java classes where applicable\n",
      "21/11/15 15:40:48 WARN Utils: Service 'SparkUI' could not bind on port 4040. Attempting port 4041.\n"
     ]
    }
   ],
   "source": [
    "from pyspark import *\n",
    "from pyspark.sql import *\n",
    "from graphframes import *\n",
    "import findspark\n",
    "import os\n",
    "\n",
    "os.environ[\"JAVA_HOME\"] = \"/usr/local/opt/openjdk@11/\"\n",
    "\n",
    "findspark.init(\"./spark-3.2.0-bin-hadoop3.2\")\n",
    "\n",
    "# Start a Spark session\n",
    "spark = SparkSession.builder.master(\"local[*]\").getOrCreate()"
   ]
  },
  {
   "cell_type": "code",
   "execution_count": 8,
   "id": "a262909d",
   "metadata": {},
   "outputs": [
    {
     "data": {
      "text/plain": [
       "{'activity_grid_activitycard',\n",
       " 'activity_grid_activitypaircard',\n",
       " 'activity_log_activitylog',\n",
       " 'analytics_attachmenttracking',\n",
       " 'analytics_event',\n",
       " 'analytics_searchtracking',\n",
       " 'app_config_appconfig',\n",
       " 'app_config_visualtokencolor',\n",
       " 'auth_group',\n",
       " 'auth_group_permissions',\n",
       " 'auth_permission',\n",
       " 'auth_user',\n",
       " 'auth_user_groups',\n",
       " 'auth_user_user_permissions',\n",
       " 'authtoken_token',\n",
       " 'cms_slugpage',\n",
       " 'data_allegation',\n",
       " 'data_allegation_areas',\n",
       " 'data_allegation_line_areas',\n",
       " 'data_allegationcategory',\n",
       " 'data_area',\n",
       " 'data_attachmentfile',\n",
       " 'data_attachmentfile_tags',\n",
       " 'data_attachmentnarrative',\n",
       " 'data_attachmentocr',\n",
       " 'data_attachmentrequest',\n",
       " 'data_award',\n",
       " 'data_complainant',\n",
       " 'data_crew',\n",
       " 'data_investigator',\n",
       " 'data_investigatorallegation',\n",
       " 'data_involvement',\n",
       " 'data_linearea',\n",
       " 'data_officer',\n",
       " 'data_officeralias',\n",
       " 'data_officerallegation',\n",
       " 'data_officerassignmentattendance',\n",
       " 'data_officerbadgenumber',\n",
       " 'data_officercrew',\n",
       " 'data_officerhistory',\n",
       " 'data_officerrank',\n",
       " 'data_officeryearlypercentile',\n",
       " 'data_pipeline_appliedfixture',\n",
       " 'data_policebeat',\n",
       " 'data_policerank',\n",
       " 'data_policeunit',\n",
       " 'data_policewitness',\n",
       " 'data_racepopulation',\n",
       " 'data_salary',\n",
       " 'data_searchwarrant',\n",
       " 'data_tag',\n",
       " 'data_versioning_changelog',\n",
       " 'data_victim',\n",
       " 'django_admin_log',\n",
       " 'django_content_type',\n",
       " 'django_migrations',\n",
       " 'django_session',\n",
       " 'django_site',\n",
       " 'document_cloud_documentcloudsearchquery',\n",
       " 'document_cloud_documentcrawler',\n",
       " 'email_service_emailtemplate',\n",
       " 'geography_columns',\n",
       " 'geometry_columns',\n",
       " 'lawsuit_lawsuit',\n",
       " 'lawsuit_lawsuit_officers',\n",
       " 'lawsuit_lawsuitplaintiff',\n",
       " 'lawsuit_payment',\n",
       " 'officers_and_units',\n",
       " 'pgbench_accounts',\n",
       " 'pgbench_branches',\n",
       " 'pgbench_history',\n",
       " 'pgbench_tellers',\n",
       " 'pinboard_examplepinboard',\n",
       " 'pinboard_pinboard',\n",
       " 'pinboard_pinboard_allegations',\n",
       " 'pinboard_pinboard_officers',\n",
       " 'pinboard_pinboard_trrs',\n",
       " 'popup_popup',\n",
       " 'search_terms_searchtermcategory',\n",
       " 'search_terms_searchtermitem',\n",
       " 'spatial_ref_sys',\n",
       " 'taggit_tag',\n",
       " 'taggit_taggeditem',\n",
       " 'toast_toast',\n",
       " 'trr_actionresponse',\n",
       " 'trr_actionresponse_refresh',\n",
       " 'trr_charge',\n",
       " 'trr_charge_refresh',\n",
       " 'trr_subjectweapon',\n",
       " 'trr_subjectweapon_refresh',\n",
       " 'trr_trr',\n",
       " 'trr_trr_refresh',\n",
       " 'trr_trrattachmentrequest',\n",
       " 'trr_trrstatus',\n",
       " 'trr_trrstatus_refresh',\n",
       " 'trr_weapondischarge',\n",
       " 'trr_weapondischarge_refresh',\n",
       " 'twitterbot_responsetemplate',\n",
       " 'twitterbot_tweetresponseroundrobin',\n",
       " 'twitterbot_twitterbotresponselog',\n",
       " 'twitterbot_twitterbotvisitlog',\n",
       " 'wagtailcore_collection',\n",
       " 'wagtailcore_groupcollectionpermission',\n",
       " 'wagtailcore_grouppagepermission',\n",
       " 'wagtailcore_page',\n",
       " 'wagtailcore_pagerevision',\n",
       " 'wagtailcore_pageviewrestriction',\n",
       " 'wagtailcore_site',\n",
       " 'wagtaildocs_document',\n",
       " 'wagtailembeds_embed',\n",
       " 'wagtailforms_formsubmission',\n",
       " 'wagtailimages_filter',\n",
       " 'wagtailimages_image',\n",
       " 'wagtailimages_rendition',\n",
       " 'wagtailredirects_redirect',\n",
       " 'wagtailsearch_editorspick',\n",
       " 'wagtailsearch_query',\n",
       " 'wagtailsearch_querydailyhits',\n",
       " 'wagtailusers_userprofile'}"
      ]
     },
     "execution_count": 8,
     "metadata": {},
     "output_type": "execute_result"
    }
   ],
   "source": [
    "tables = db.tables()\n",
    "set(tables['table_name'])"
   ]
  },
  {
   "cell_type": "code",
   "execution_count": 20,
   "id": "176a4097",
   "metadata": {},
   "outputs": [
    {
     "data": {
      "text/plain": [
       "(517, 6)"
      ]
     },
     "execution_count": 20,
     "metadata": {},
     "output_type": "execute_result"
    }
   ],
   "source": [
    "racepop = db.download(\"data_racepopulation\")\n",
    "racepop.shape"
   ]
  },
  {
   "cell_type": "code",
   "execution_count": 22,
   "id": "bd180873",
   "metadata": {},
   "outputs": [
    {
     "data": {
      "text/plain": [
       "(209219, 14)"
      ]
     },
     "execution_count": 22,
     "metadata": {},
     "output_type": "execute_result"
    }
   ],
   "source": [
    "salary = db.download(\"data_salary\")\n",
    "salary.shape"
   ]
  },
  {
   "cell_type": "code",
   "execution_count": 12,
   "id": "5be78f57",
   "metadata": {},
   "outputs": [
    {
     "data": {
      "text/plain": [
       "(1551, 12)"
      ]
     },
     "execution_count": 12,
     "metadata": {},
     "output_type": "execute_result"
    }
   ],
   "source": [
    "area = db.download(\"data_area\")\n",
    "area.shape"
   ]
  },
  {
   "cell_type": "code",
   "execution_count": 16,
   "id": "78d5ba47",
   "metadata": {},
   "outputs": [
    {
     "data": {
      "text/plain": [
       "(4307, 3)"
      ]
     },
     "execution_count": 16,
     "metadata": {},
     "output_type": "execute_result"
    }
   ],
   "source": [
    "allegation_line_areas = db.download(\"data_allegation_line_areas\")\n",
    "allegation_line_areas.shape"
   ]
  },
  {
   "cell_type": "code",
   "execution_count": 13,
   "id": "57792c66",
   "metadata": {},
   "outputs": [
    {
     "data": {
      "text/plain": [
       "(928000, 3)"
      ]
     },
     "execution_count": 13,
     "metadata": {},
     "output_type": "execute_result"
    }
   ],
   "source": [
    "allegation_areas = db.download(\"data_allegation_areas\")\n",
    "allegation_areas.shape"
   ]
  },
  {
   "cell_type": "code",
   "execution_count": 9,
   "id": "2a9ef47a",
   "metadata": {},
   "outputs": [
    {
     "data": {
      "text/plain": [
       "(249788, 15)"
      ]
     },
     "execution_count": 9,
     "metadata": {},
     "output_type": "execute_result"
    }
   ],
   "source": [
    "officerallegation = db.download(\"data_officerallegation\")\n",
    "officerallegation.shape"
   ]
  },
  {
   "cell_type": "code",
   "execution_count": 10,
   "id": "648b5f8c",
   "metadata": {},
   "outputs": [
    {
     "data": {
      "text/plain": [
       "(35545, 33)"
      ]
     },
     "execution_count": 10,
     "metadata": {},
     "output_type": "execute_result"
    }
   ],
   "source": [
    "officer = db.download(\"data_officer\")\n",
    "officer.shape"
   ]
  },
  {
   "cell_type": "code",
   "execution_count": 11,
   "id": "4f14c38a",
   "metadata": {},
   "outputs": [
    {
     "data": {
      "text/plain": [
       "(216052, 20)"
      ]
     },
     "execution_count": 11,
     "metadata": {},
     "output_type": "execute_result"
    }
   ],
   "source": [
    "allegation = db.download(\"data_allegation\")\n",
    "allegation.shape"
   ]
  },
  {
   "cell_type": "code",
   "execution_count": null,
   "id": "525ab383",
   "metadata": {},
   "outputs": [],
   "source": []
  }
 ],
 "metadata": {
  "kernelspec": {
   "display_name": "Python 3 (ipykernel)",
   "language": "python",
   "name": "python3"
  },
  "language_info": {
   "codemirror_mode": {
    "name": "ipython",
    "version": 3
   },
   "file_extension": ".py",
   "mimetype": "text/x-python",
   "name": "python",
   "nbconvert_exporter": "python",
   "pygments_lexer": "ipython3",
   "version": "3.8.12"
  }
 },
 "nbformat": 4,
 "nbformat_minor": 5
}
